{
 "cells": [
  {
   "cell_type": "code",
   "execution_count": 1,
   "metadata": {},
   "outputs": [],
   "source": [
    "import os\n",
    "import glob\n",
    "import pandas as pd\n",
    "import numpy as np\n"
   ]
  },
  {
   "cell_type": "markdown",
   "metadata": {},
   "source": [
    "We will start by reading in GPS file with power values. To get this file a cleaned GPS file went through some propriety software. "
   ]
  },
  {
   "cell_type": "code",
   "execution_count": 2,
   "metadata": {},
   "outputs": [
    {
     "data": {
      "text/html": [
       "<div>\n",
       "<style scoped>\n",
       "    .dataframe tbody tr th:only-of-type {\n",
       "        vertical-align: middle;\n",
       "    }\n",
       "\n",
       "    .dataframe tbody tr th {\n",
       "        vertical-align: top;\n",
       "    }\n",
       "\n",
       "    .dataframe thead th {\n",
       "        text-align: right;\n",
       "    }\n",
       "</style>\n",
       "<table border=\"1\" class=\"dataframe\">\n",
       "  <thead>\n",
       "    <tr style=\"text-align: right;\">\n",
       "      <th></th>\n",
       "      <th>T_T0_s</th>\n",
       "      <th>latitude</th>\n",
       "      <th>longitude</th>\n",
       "      <th>altitude</th>\n",
       "      <th>velocityAbs</th>\n",
       "      <th>acceleration</th>\n",
       "      <th>power</th>\n",
       "    </tr>\n",
       "  </thead>\n",
       "  <tbody>\n",
       "    <tr>\n",
       "      <th>0</th>\n",
       "      <td>0.000000</td>\n",
       "      <td>51.760891</td>\n",
       "      <td>-1.261531</td>\n",
       "      <td>114.152164</td>\n",
       "      <td>0.003096</td>\n",
       "      <td>2.140747e-11</td>\n",
       "      <td>1.139526</td>\n",
       "    </tr>\n",
       "    <tr>\n",
       "      <th>1</th>\n",
       "      <td>0.020015</td>\n",
       "      <td>51.760891</td>\n",
       "      <td>-1.261531</td>\n",
       "      <td>114.152219</td>\n",
       "      <td>0.003121</td>\n",
       "      <td>1.270351e-02</td>\n",
       "      <td>-36.986994</td>\n",
       "    </tr>\n",
       "    <tr>\n",
       "      <th>2</th>\n",
       "      <td>0.040029</td>\n",
       "      <td>51.760891</td>\n",
       "      <td>-1.261531</td>\n",
       "      <td>114.152275</td>\n",
       "      <td>0.003208</td>\n",
       "      <td>4.326055e-02</td>\n",
       "      <td>-37.681035</td>\n",
       "    </tr>\n",
       "    <tr>\n",
       "      <th>3</th>\n",
       "      <td>0.060044</td>\n",
       "      <td>51.760891</td>\n",
       "      <td>-1.261531</td>\n",
       "      <td>114.152332</td>\n",
       "      <td>0.003341</td>\n",
       "      <td>6.642054e-02</td>\n",
       "      <td>-49.998600</td>\n",
       "    </tr>\n",
       "    <tr>\n",
       "      <th>4</th>\n",
       "      <td>0.080059</td>\n",
       "      <td>51.760891</td>\n",
       "      <td>-1.261531</td>\n",
       "      <td>114.152390</td>\n",
       "      <td>0.003168</td>\n",
       "      <td>-8.621679e-02</td>\n",
       "      <td>-33.629682</td>\n",
       "    </tr>\n",
       "  </tbody>\n",
       "</table>\n",
       "</div>"
      ],
      "text/plain": [
       "     T_T0_s   latitude  longitude    altitude  velocityAbs  acceleration  \\\n",
       "0  0.000000  51.760891  -1.261531  114.152164     0.003096  2.140747e-11   \n",
       "1  0.020015  51.760891  -1.261531  114.152219     0.003121  1.270351e-02   \n",
       "2  0.040029  51.760891  -1.261531  114.152275     0.003208  4.326055e-02   \n",
       "3  0.060044  51.760891  -1.261531  114.152332     0.003341  6.642054e-02   \n",
       "4  0.080059  51.760891  -1.261531  114.152390     0.003168 -8.621679e-02   \n",
       "\n",
       "       power  \n",
       "0   1.139526  \n",
       "1 -36.986994  \n",
       "2 -37.681035  \n",
       "3 -49.998600  \n",
       "4 -33.629682  "
      ]
     },
     "execution_count": 2,
     "metadata": {},
     "output_type": "execute_result"
    }
   ],
   "source": [
    "df=pd.read_csv('DF4.csv' , header=0, low_memory=False)\n",
    "df=df.drop('T-T0',axis=1)\n",
    "df=df.drop('distanceTravelledSinceLastPoint',axis=1)\n",
    "df.head()"
   ]
  },
  {
   "cell_type": "markdown",
   "metadata": {},
   "source": [
    "The above dataframe shows that the Time interval is approximately every 0.02 seconds. Lets group these together to the nearest seconds, taking an average of the values in between:"
   ]
  },
  {
   "cell_type": "code",
   "execution_count": 3,
   "metadata": {},
   "outputs": [
    {
     "data": {
      "text/html": [
       "<div>\n",
       "<style scoped>\n",
       "    .dataframe tbody tr th:only-of-type {\n",
       "        vertical-align: middle;\n",
       "    }\n",
       "\n",
       "    .dataframe tbody tr th {\n",
       "        vertical-align: top;\n",
       "    }\n",
       "\n",
       "    .dataframe thead th {\n",
       "        text-align: right;\n",
       "    }\n",
       "</style>\n",
       "<table border=\"1\" class=\"dataframe\">\n",
       "  <thead>\n",
       "    <tr style=\"text-align: right;\">\n",
       "      <th></th>\n",
       "      <th>T_T0_s</th>\n",
       "      <th>latitude</th>\n",
       "      <th>longitude</th>\n",
       "      <th>altitude</th>\n",
       "      <th>velocityAbs</th>\n",
       "      <th>acceleration</th>\n",
       "      <th>power</th>\n",
       "    </tr>\n",
       "  </thead>\n",
       "  <tbody>\n",
       "    <tr>\n",
       "      <th>1</th>\n",
       "      <td>0.499973</td>\n",
       "      <td>51.760891</td>\n",
       "      <td>-1.261531</td>\n",
       "      <td>114.151619</td>\n",
       "      <td>0.004138</td>\n",
       "      <td>0.029414</td>\n",
       "      <td>-28.537602</td>\n",
       "    </tr>\n",
       "    <tr>\n",
       "      <th>2</th>\n",
       "      <td>1.509922</td>\n",
       "      <td>51.760891</td>\n",
       "      <td>-1.261531</td>\n",
       "      <td>114.155556</td>\n",
       "      <td>0.006637</td>\n",
       "      <td>0.015816</td>\n",
       "      <td>-65.941776</td>\n",
       "    </tr>\n",
       "    <tr>\n",
       "      <th>3</th>\n",
       "      <td>2.509888</td>\n",
       "      <td>51.760891</td>\n",
       "      <td>-1.261531</td>\n",
       "      <td>114.155135</td>\n",
       "      <td>0.006002</td>\n",
       "      <td>-0.018576</td>\n",
       "      <td>-6.876422</td>\n",
       "    </tr>\n",
       "    <tr>\n",
       "      <th>4</th>\n",
       "      <td>3.509872</td>\n",
       "      <td>51.760891</td>\n",
       "      <td>-1.261531</td>\n",
       "      <td>114.155515</td>\n",
       "      <td>0.005300</td>\n",
       "      <td>0.004647</td>\n",
       "      <td>-38.007377</td>\n",
       "    </tr>\n",
       "    <tr>\n",
       "      <th>5</th>\n",
       "      <td>4.509881</td>\n",
       "      <td>51.760891</td>\n",
       "      <td>-1.261531</td>\n",
       "      <td>114.155923</td>\n",
       "      <td>0.006449</td>\n",
       "      <td>0.007402</td>\n",
       "      <td>-59.623393</td>\n",
       "    </tr>\n",
       "  </tbody>\n",
       "</table>\n",
       "</div>"
      ],
      "text/plain": [
       "     T_T0_s   latitude  longitude    altitude  velocityAbs  acceleration  \\\n",
       "1  0.499973  51.760891  -1.261531  114.151619     0.004138      0.029414   \n",
       "2  1.509922  51.760891  -1.261531  114.155556     0.006637      0.015816   \n",
       "3  2.509888  51.760891  -1.261531  114.155135     0.006002     -0.018576   \n",
       "4  3.509872  51.760891  -1.261531  114.155515     0.005300      0.004647   \n",
       "5  4.509881  51.760891  -1.261531  114.155923     0.006449      0.007402   \n",
       "\n",
       "       power  \n",
       "1 -28.537602  \n",
       "2 -65.941776  \n",
       "3  -6.876422  \n",
       "4 -38.007377  \n",
       "5 -59.623393  "
      ]
     },
     "execution_count": 3,
     "metadata": {},
     "output_type": "execute_result"
    }
   ],
   "source": [
    "Tmax=int(df.T_T0_s.max())\n",
    "bins = np.linspace(df.T_T0_s.min(), Tmax, Tmax+1)\n",
    "df4_group = df.groupby(np.digitize(df.T_T0_s, bins)).mean()\n",
    "df4_group.head()"
   ]
  },
  {
   "cell_type": "markdown",
   "metadata": {},
   "source": [
    "Now lets see what is correlated to power:"
   ]
  },
  {
   "cell_type": "code",
   "execution_count": 4,
   "metadata": {},
   "outputs": [
    {
     "name": "stdout",
     "output_type": "stream",
     "text": [
      "              Correlation\n",
      "power            1.000000\n",
      "acceleration     0.832258\n",
      "longitude        0.015997\n",
      "altitude         0.005234\n",
      "T_T0_s           0.005173\n",
      "latitude         0.002096\n",
      "velocityAbs     -0.024941\n"
     ]
    }
   ],
   "source": [
    "dfcorr = df4_group.corr(method='spearman')['power']\n",
    "dfcorr = pd.DataFrame(dfcorr)\n",
    "dfcorr.columns = [\"Correlation\"]\n",
    "dfcorr2 = dfcorr.sort_values(by=['Correlation'], ascending=False)\n",
    "print(dfcorr2)"
   ]
  },
  {
   "cell_type": "markdown",
   "metadata": {},
   "source": [
    "Only acceleration is highly correlated. \n",
    "What about viewing this as a time series?"
   ]
  },
  {
   "cell_type": "code",
   "execution_count": 5,
   "metadata": {},
   "outputs": [
    {
     "name": "stdout",
     "output_type": "stream",
     "text": [
      "t       1.000000\n",
      "t+1     0.813595\n",
      "t+2     0.530375\n",
      "t+3     0.285426\n",
      "t+4     0.115904\n",
      "t+5     0.018619\n",
      "t+6    -0.035054\n",
      "t+7    -0.054886\n",
      "t+8    -0.060359\n",
      "t+9    -0.068716\n",
      "t+10   -0.082963\n",
      "Name: t, dtype: float64\n"
     ]
    }
   ],
   "source": [
    "Pseries=pd.Series(df4_group['power'])\n",
    "values = pd.DataFrame(Pseries.values)\n",
    "\n",
    "dataframe = pd.concat([values, values.shift(1), values.shift(2), values.shift(3), values.shift(4), values.shift(5), values.shift(6), values.shift(7), values.shift(8), values.shift(9), values.shift(10)], axis=1)\n",
    "dataframe.head()\n",
    "dataframe.columns = ['t', 't+1', 't+2', 't+3', 't+4', 't+5', 't+6', 't+7', 't+8', 't+9', 't+10']\n",
    "result = dataframe.corr()\n",
    "print(result.iloc[0])\n"
   ]
  },
  {
   "cell_type": "markdown",
   "metadata": {},
   "source": [
    "Now we have correlations up to about 5 seconds. Lets use VAR with acceleration and power so we can use both a time series approach and to exploit the strong correlations with acceleration."
   ]
  },
  {
   "cell_type": "code",
   "execution_count": 6,
   "metadata": {},
   "outputs": [],
   "source": [
    "import warnings\n",
    "from statsmodels.tsa.vector_ar.var_model import VAR\n",
    "warnings.filterwarnings(\"ignore\")\n",
    "df=df4_group[['acceleration', 'power']]\n",
    "\n",
    "test=df.iloc[6:]\n",
    "#train=long_df.iloc[0:5]\n",
    "#for t in range(0,1):\n",
    "predictions=[]\n",
    "actuals=[]\n",
    "d=1500\n",
    "for t in range(0,len(test)-d):\n",
    "    train=df.iloc[t:t+d-1]\n",
    "    to_test=test.iloc[t+d]\n",
    "    actuals.append(to_test['power'])\n",
    "    model = VAR(train)\n",
    "    model_fit = model.fit()\n",
    "    prediction = model_fit.forecast(model_fit.y, steps=1)\n",
    "    prediction=prediction[0]\n",
    "    predictions.append(prediction[-1])"
   ]
  },
  {
   "cell_type": "markdown",
   "metadata": {},
   "source": [
    "Lets plot predictions versus actuals"
   ]
  },
  {
   "cell_type": "code",
   "execution_count": 9,
   "metadata": {},
   "outputs": [
    {
     "data": {
      "image/png": "[encoded data removed]",
      "text/plain": [
       "<Figure size 432x288 with 1 Axes>"
      ]
     },
     "metadata": {
      "needs_background": "light"
     },
     "output_type": "display_data"
    }
   ],
   "source": [
    "import seaborn as sns\n",
    "test_x=range(0,len(predictions))\n",
    "ax = sns.scatterplot(x=test_x, y=predictions,color='red')\n",
    "ax = sns.lineplot(x=test_x, y=actuals)"
   ]
  },
  {
   "cell_type": "markdown",
   "metadata": {},
   "source": [
    "What is the error?"
   ]
  },
  {
   "cell_type": "code",
   "execution_count": 10,
   "metadata": {},
   "outputs": [
    {
     "name": "stdout",
     "output_type": "stream",
     "text": [
      "Test MAE: 24821.445\n"
     ]
    }
   ],
   "source": [
    "from sklearn.metrics import mean_absolute_error\n",
    "error = mean_absolute_error(actuals, predictions)\n",
    "print('Test MAE: %.3f' % error)"
   ]
  },
  {
   "cell_type": "markdown",
   "metadata": {},
   "source": [
    "Wow thats a big error! Looks like a lot more work needs to be done\n",
    "\n",
    "Note: This is a simplified version of the final product that was handed over to the company. The full and far more accurate version is in their hands to be implemented soon. \n",
    "\n",
    "I hope you've enjoyed this notebook. "
   ]
  },
  {
   "cell_type": "code",
   "execution_count": null,
   "metadata": {},
   "outputs": [],
   "source": []
  },
  {
   "cell_type": "code",
   "execution_count": null,
   "metadata": {},
   "outputs": [],
   "source": []
  }
 ],
 "metadata": {
  "kernelspec": {
   "display_name": "Python [conda env:insight]",
   "language": "python",
   "name": "conda-env-insight-py"
  },
  "language_info": {
   "codemirror_mode": {
    "name": "ipython",
    "version": 3
   },
   "file_extension": ".py",
   "mimetype": "text/x-python",
   "name": "python",
   "nbconvert_exporter": "python",
   "pygments_lexer": "ipython3",
   "version": "3.7.2"
  }
 },
 "nbformat": 4,
 "nbformat_minor": 2
}
