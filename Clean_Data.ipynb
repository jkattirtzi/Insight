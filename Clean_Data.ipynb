{
 "cells": [
  {
   "cell_type": "code",
   "execution_count": 1,
   "metadata": {},
   "outputs": [],
   "source": [
    "import pandas as pd\n",
    "import seaborn as sns\n",
    "import numpy as np"
   ]
  },
  {
   "cell_type": "markdown",
   "metadata": {},
   "source": [
    "Lets read in an example GPS csv file. "
   ]
  },
  {
   "cell_type": "code",
   "execution_count": 2,
   "metadata": {},
   "outputs": [
    {
     "name": "stdout",
     "output_type": "stream",
     "text": [
      "Number of rows: 146134\n"
     ]
    },
    {
     "data": {
      "text/html": [
       "<div>\n",
       "<style scoped>\n",
       "    .dataframe tbody tr th:only-of-type {\n",
       "        vertical-align: middle;\n",
       "    }\n",
       "\n",
       "    .dataframe tbody tr th {\n",
       "        vertical-align: top;\n",
       "    }\n",
       "\n",
       "    .dataframe thead th {\n",
       "        text-align: right;\n",
       "    }\n",
       "</style>\n",
       "<table border=\"1\" class=\"dataframe\">\n",
       "  <thead>\n",
       "    <tr style=\"text-align: right;\">\n",
       "      <th></th>\n",
       "      <th>timestamp</th>\n",
       "      <th>latitude</th>\n",
       "      <th>longitude</th>\n",
       "      <th>altitude</th>\n",
       "      <th>northing</th>\n",
       "      <th>easting</th>\n",
       "      <th>down</th>\n",
       "      <th>velocity_north</th>\n",
       "      <th>velocity_east</th>\n",
       "      <th>velocity_down</th>\n",
       "    </tr>\n",
       "  </thead>\n",
       "  <tbody>\n",
       "    <tr>\n",
       "      <th>0</th>\n",
       "      <td>1433499013991745</td>\n",
       "      <td>51.760579</td>\n",
       "      <td>-1.261311</td>\n",
       "      <td>114.112079</td>\n",
       "      <td>5.735840e+06</td>\n",
       "      <td>619993.346680</td>\n",
       "      <td>-114.112079</td>\n",
       "      <td>1.886407</td>\n",
       "      <td>-0.852159</td>\n",
       "      <td>0.092644</td>\n",
       "    </tr>\n",
       "    <tr>\n",
       "      <th>1</th>\n",
       "      <td>1433499014011745</td>\n",
       "      <td>51.760580</td>\n",
       "      <td>-1.261312</td>\n",
       "      <td>114.110195</td>\n",
       "      <td>5.735840e+06</td>\n",
       "      <td>619993.328696</td>\n",
       "      <td>-114.110195</td>\n",
       "      <td>1.900565</td>\n",
       "      <td>-0.857167</td>\n",
       "      <td>0.095289</td>\n",
       "    </tr>\n",
       "    <tr>\n",
       "      <th>2</th>\n",
       "      <td>1433499014031745</td>\n",
       "      <td>51.760580</td>\n",
       "      <td>-1.261312</td>\n",
       "      <td>114.108287</td>\n",
       "      <td>5.735840e+06</td>\n",
       "      <td>619993.310598</td>\n",
       "      <td>-114.108287</td>\n",
       "      <td>1.913448</td>\n",
       "      <td>-0.862771</td>\n",
       "      <td>0.095473</td>\n",
       "    </tr>\n",
       "    <tr>\n",
       "      <th>3</th>\n",
       "      <td>1433499014051745</td>\n",
       "      <td>51.760580</td>\n",
       "      <td>-1.261312</td>\n",
       "      <td>114.106377</td>\n",
       "      <td>5.735840e+06</td>\n",
       "      <td>619993.292381</td>\n",
       "      <td>-114.106377</td>\n",
       "      <td>1.927292</td>\n",
       "      <td>-0.868113</td>\n",
       "      <td>0.095935</td>\n",
       "    </tr>\n",
       "    <tr>\n",
       "      <th>4</th>\n",
       "      <td>1433499014071746</td>\n",
       "      <td>51.760581</td>\n",
       "      <td>-1.261312</td>\n",
       "      <td>114.104466</td>\n",
       "      <td>5.735840e+06</td>\n",
       "      <td>619993.274054</td>\n",
       "      <td>-114.104466</td>\n",
       "      <td>1.940624</td>\n",
       "      <td>-0.873413</td>\n",
       "      <td>0.094671</td>\n",
       "    </tr>\n",
       "  </tbody>\n",
       "</table>\n",
       "</div>"
      ],
      "text/plain": [
       "          timestamp   latitude  longitude    altitude      northing  \\\n",
       "0  1433499013991745  51.760579  -1.261311  114.112079  5.735840e+06   \n",
       "1  1433499014011745  51.760580  -1.261312  114.110195  5.735840e+06   \n",
       "2  1433499014031745  51.760580  -1.261312  114.108287  5.735840e+06   \n",
       "3  1433499014051745  51.760580  -1.261312  114.106377  5.735840e+06   \n",
       "4  1433499014071746  51.760581  -1.261312  114.104466  5.735840e+06   \n",
       "\n",
       "         easting        down  velocity_north  velocity_east  velocity_down  \n",
       "0  619993.346680 -114.112079        1.886407      -0.852159       0.092644  \n",
       "1  619993.328696 -114.110195        1.900565      -0.857167       0.095289  \n",
       "2  619993.310598 -114.108287        1.913448      -0.862771       0.095473  \n",
       "3  619993.292381 -114.106377        1.927292      -0.868113       0.095935  \n",
       "4  619993.274054 -114.104466        1.940624      -0.873413       0.094671  "
      ]
     },
     "execution_count": 2,
     "metadata": {},
     "output_type": "execute_result"
    }
   ],
   "source": [
    "file='ins_example.csv'\n",
    "df=pd.read_csv(file, header=0, low_memory=False)\n",
    "nrows=df.shape[0]\n",
    "print (\"Number of rows:\", nrows)\n",
    "df.head()\n"
   ]
  },
  {
   "cell_type": "markdown",
   "metadata": {},
   "source": [
    "The timestamp is in seconds. \n",
    "Longitude and Latitude should fall within the range of the vehicle's journey. \n",
    "51.79 > Longitude > 51.72 \n",
    "-1.24 > Latitude > -1.27\n",
    "Lets remove the rows that contain extreme values in Longitude and Latitude"
   ]
  },
  {
   "cell_type": "code",
   "execution_count": 3,
   "metadata": {},
   "outputs": [
    {
     "name": "stdout",
     "output_type": "stream",
     "text": [
      "Number of rows 42581\n"
     ]
    }
   ],
   "source": [
    "df['latitude'] = df['latitude'].apply(lambda x: x if (x is not None) and (x <51.79) else None)\n",
    "df['latitude'] = df['latitude'].apply(lambda x: x if (x is not None) and (x >51.72) else None)\n",
    "df['longitude'] = df['longitude'].apply(lambda x: x if (x is not None) and (x <-1.24) else None)\n",
    "df['longitude'] = df['longitude'].apply(lambda x: x if (x is not None) and (x >-1.27) else None)\n",
    "df.dropna(inplace=True)\n",
    "print (\"Number of rows\", df.shape[0])"
   ]
  },
  {
   "cell_type": "markdown",
   "metadata": {},
   "source": [
    "Timestamp should be unique and monotonic. Lets check that. "
   ]
  },
  {
   "cell_type": "code",
   "execution_count": 4,
   "metadata": {},
   "outputs": [
    {
     "name": "stdout",
     "output_type": "stream",
     "text": [
      "Timestamp is unique: True\n",
      "Timestamp is monotonic: True\n"
     ]
    }
   ],
   "source": [
    "timestamp=df.iloc[:,0]\n",
    "print (\"Timestamp is unique:\", timestamp.is_unique)\n",
    "print(\"Timestamp is monotonic:\",timestamp.is_monotonic)"
   ]
  },
  {
   "cell_type": "markdown",
   "metadata": {},
   "source": [
    "Great, so we can now use the timestamp to calculate the time derivative of our features.\n",
    "If there is a large change in our values this will show up as a large change in the time derivative\n",
    "and will be viewed as an anomalous GPS value to be removed. "
   ]
  },
  {
   "cell_type": "markdown",
   "metadata": {},
   "source": [
    "The diff function gives us the difference between rows of a column:"
   ]
  },
  {
   "cell_type": "code",
   "execution_count": 5,
   "metadata": {},
   "outputs": [
    {
     "data": {
      "text/html": [
       "<div>\n",
       "<style scoped>\n",
       "    .dataframe tbody tr th:only-of-type {\n",
       "        vertical-align: middle;\n",
       "    }\n",
       "\n",
       "    .dataframe tbody tr th {\n",
       "        vertical-align: top;\n",
       "    }\n",
       "\n",
       "    .dataframe thead th {\n",
       "        text-align: right;\n",
       "    }\n",
       "</style>\n",
       "<table border=\"1\" class=\"dataframe\">\n",
       "  <thead>\n",
       "    <tr style=\"text-align: right;\">\n",
       "      <th></th>\n",
       "      <th>timestamp</th>\n",
       "      <th>dt</th>\n",
       "    </tr>\n",
       "  </thead>\n",
       "  <tbody>\n",
       "    <tr>\n",
       "      <th>0</th>\n",
       "      <td>1433499013991745</td>\n",
       "      <td>NaN</td>\n",
       "    </tr>\n",
       "    <tr>\n",
       "      <th>1</th>\n",
       "      <td>1433499014011745</td>\n",
       "      <td>20000.0</td>\n",
       "    </tr>\n",
       "    <tr>\n",
       "      <th>2</th>\n",
       "      <td>1433499014031745</td>\n",
       "      <td>20000.0</td>\n",
       "    </tr>\n",
       "    <tr>\n",
       "      <th>3</th>\n",
       "      <td>1433499014051745</td>\n",
       "      <td>20000.0</td>\n",
       "    </tr>\n",
       "    <tr>\n",
       "      <th>4</th>\n",
       "      <td>1433499014071746</td>\n",
       "      <td>20001.0</td>\n",
       "    </tr>\n",
       "  </tbody>\n",
       "</table>\n",
       "</div>"
      ],
      "text/plain": [
       "          timestamp       dt\n",
       "0  1433499013991745      NaN\n",
       "1  1433499014011745  20000.0\n",
       "2  1433499014031745  20000.0\n",
       "3  1433499014051745  20000.0\n",
       "4  1433499014071746  20001.0"
      ]
     },
     "execution_count": 5,
     "metadata": {},
     "output_type": "execute_result"
    }
   ],
   "source": [
    "df['dt']=df['timestamp'].diff()\n",
    "df[['timestamp','dt']].head()"
   ]
  },
  {
   "cell_type": "code",
   "execution_count": 6,
   "metadata": {},
   "outputs": [],
   "source": [
    "df['dlat']=(df['latitude'].diff())/df['dt']\n",
    "df['dlon']=(df['longitude'].diff())/df['dt']\n",
    "df['dalt']=(df['altitude'].diff())/df['dt']\n",
    "df['dnor']=(df['northing'].diff())/df['dt']\n",
    "df['deas']=(df['easting'].diff())/df['dt']\n",
    "df['ddow']=(df['down'].diff())/df['dt']\n",
    "df['dvelN']=(df['velocity_north'].diff())/df['dt']\n",
    "df['dvelE']=(df['velocity_east'].diff())/df['dt']\n",
    "df['dvelD']=(df['velocity_down'].diff())/df['dt']"
   ]
  },
  {
   "cell_type": "markdown",
   "metadata": {},
   "source": [
    "Now we have the time derivatives lets remove rows that contain extreme values. \n",
    "How do we define extreme values? \n",
    "99.7% of normally distributed data should fall within "
   ]
  },
  {
   "cell_type": "code",
   "execution_count": 7,
   "metadata": {},
   "outputs": [
    {
     "data": {
      "text/html": [
       "<div>\n",
       "<style scoped>\n",
       "    .dataframe tbody tr th:only-of-type {\n",
       "        vertical-align: middle;\n",
       "    }\n",
       "\n",
       "    .dataframe tbody tr th {\n",
       "        vertical-align: top;\n",
       "    }\n",
       "\n",
       "    .dataframe thead th {\n",
       "        text-align: right;\n",
       "    }\n",
       "</style>\n",
       "<table border=\"1\" class=\"dataframe\">\n",
       "  <thead>\n",
       "    <tr style=\"text-align: right;\">\n",
       "      <th></th>\n",
       "      <th>timestamp</th>\n",
       "      <th>latitude</th>\n",
       "      <th>longitude</th>\n",
       "      <th>altitude</th>\n",
       "      <th>northing</th>\n",
       "      <th>easting</th>\n",
       "      <th>down</th>\n",
       "      <th>velocity_north</th>\n",
       "      <th>velocity_east</th>\n",
       "      <th>velocity_down</th>\n",
       "      <th>dt</th>\n",
       "      <th>dlat</th>\n",
       "      <th>dlon</th>\n",
       "      <th>dalt</th>\n",
       "      <th>dnor</th>\n",
       "      <th>deas</th>\n",
       "      <th>ddow</th>\n",
       "      <th>dvelN</th>\n",
       "      <th>dvelE</th>\n",
       "      <th>dvelD</th>\n",
       "    </tr>\n",
       "  </thead>\n",
       "  <tbody>\n",
       "    <tr>\n",
       "      <th>0</th>\n",
       "      <td>1433499013991745</td>\n",
       "      <td>51.760579</td>\n",
       "      <td>-1.261311</td>\n",
       "      <td>114.112079</td>\n",
       "      <td>5.735840e+06</td>\n",
       "      <td>619993.346680</td>\n",
       "      <td>-114.112079</td>\n",
       "      <td>1.886407</td>\n",
       "      <td>-0.852159</td>\n",
       "      <td>0.092644</td>\n",
       "      <td>NaN</td>\n",
       "      <td>NaN</td>\n",
       "      <td>NaN</td>\n",
       "      <td>NaN</td>\n",
       "      <td>NaN</td>\n",
       "      <td>NaN</td>\n",
       "      <td>NaN</td>\n",
       "      <td>NaN</td>\n",
       "      <td>NaN</td>\n",
       "      <td>NaN</td>\n",
       "    </tr>\n",
       "    <tr>\n",
       "      <th>1</th>\n",
       "      <td>1433499014011745</td>\n",
       "      <td>51.760580</td>\n",
       "      <td>-1.261312</td>\n",
       "      <td>114.110195</td>\n",
       "      <td>5.735840e+06</td>\n",
       "      <td>619993.328696</td>\n",
       "      <td>-114.110195</td>\n",
       "      <td>1.900565</td>\n",
       "      <td>-0.857167</td>\n",
       "      <td>0.095289</td>\n",
       "      <td>20000.0</td>\n",
       "      <td>5.000000e-11</td>\n",
       "      <td>-5.000000e-11</td>\n",
       "      <td>-9.420000e-08</td>\n",
       "      <td>0.000002</td>\n",
       "      <td>-8.992000e-07</td>\n",
       "      <td>9.420000e-08</td>\n",
       "      <td>7.079000e-07</td>\n",
       "      <td>-2.504000e-07</td>\n",
       "      <td>1.322500e-07</td>\n",
       "    </tr>\n",
       "    <tr>\n",
       "      <th>2</th>\n",
       "      <td>1433499014031745</td>\n",
       "      <td>51.760580</td>\n",
       "      <td>-1.261312</td>\n",
       "      <td>114.108287</td>\n",
       "      <td>5.735840e+06</td>\n",
       "      <td>619993.310598</td>\n",
       "      <td>-114.108287</td>\n",
       "      <td>1.913448</td>\n",
       "      <td>-0.862771</td>\n",
       "      <td>0.095473</td>\n",
       "      <td>20000.0</td>\n",
       "      <td>0.000000e+00</td>\n",
       "      <td>0.000000e+00</td>\n",
       "      <td>-9.540000e-08</td>\n",
       "      <td>0.000002</td>\n",
       "      <td>-9.049000e-07</td>\n",
       "      <td>9.540000e-08</td>\n",
       "      <td>6.441500e-07</td>\n",
       "      <td>-2.802000e-07</td>\n",
       "      <td>9.200000e-09</td>\n",
       "    </tr>\n",
       "    <tr>\n",
       "      <th>3</th>\n",
       "      <td>1433499014051745</td>\n",
       "      <td>51.760580</td>\n",
       "      <td>-1.261312</td>\n",
       "      <td>114.106377</td>\n",
       "      <td>5.735840e+06</td>\n",
       "      <td>619993.292381</td>\n",
       "      <td>-114.106377</td>\n",
       "      <td>1.927292</td>\n",
       "      <td>-0.868113</td>\n",
       "      <td>0.095935</td>\n",
       "      <td>20000.0</td>\n",
       "      <td>0.000000e+00</td>\n",
       "      <td>0.000000e+00</td>\n",
       "      <td>-9.550000e-08</td>\n",
       "      <td>0.000002</td>\n",
       "      <td>-9.108500e-07</td>\n",
       "      <td>9.550000e-08</td>\n",
       "      <td>6.922000e-07</td>\n",
       "      <td>-2.671000e-07</td>\n",
       "      <td>2.310000e-08</td>\n",
       "    </tr>\n",
       "    <tr>\n",
       "      <th>4</th>\n",
       "      <td>1433499014071746</td>\n",
       "      <td>51.760581</td>\n",
       "      <td>-1.261312</td>\n",
       "      <td>114.104466</td>\n",
       "      <td>5.735840e+06</td>\n",
       "      <td>619993.274054</td>\n",
       "      <td>-114.104466</td>\n",
       "      <td>1.940624</td>\n",
       "      <td>-0.873413</td>\n",
       "      <td>0.094671</td>\n",
       "      <td>20001.0</td>\n",
       "      <td>4.999750e-11</td>\n",
       "      <td>0.000000e+00</td>\n",
       "      <td>-9.554522e-08</td>\n",
       "      <td>0.000002</td>\n",
       "      <td>-9.163042e-07</td>\n",
       "      <td>9.554522e-08</td>\n",
       "      <td>6.665667e-07</td>\n",
       "      <td>-2.649868e-07</td>\n",
       "      <td>-6.319684e-08</td>\n",
       "    </tr>\n",
       "  </tbody>\n",
       "</table>\n",
       "</div>"
      ],
      "text/plain": [
       "          timestamp   latitude  longitude    altitude      northing  \\\n",
       "0  1433499013991745  51.760579  -1.261311  114.112079  5.735840e+06   \n",
       "1  1433499014011745  51.760580  -1.261312  114.110195  5.735840e+06   \n",
       "2  1433499014031745  51.760580  -1.261312  114.108287  5.735840e+06   \n",
       "3  1433499014051745  51.760580  -1.261312  114.106377  5.735840e+06   \n",
       "4  1433499014071746  51.760581  -1.261312  114.104466  5.735840e+06   \n",
       "\n",
       "         easting        down  velocity_north  velocity_east  velocity_down  \\\n",
       "0  619993.346680 -114.112079        1.886407      -0.852159       0.092644   \n",
       "1  619993.328696 -114.110195        1.900565      -0.857167       0.095289   \n",
       "2  619993.310598 -114.108287        1.913448      -0.862771       0.095473   \n",
       "3  619993.292381 -114.106377        1.927292      -0.868113       0.095935   \n",
       "4  619993.274054 -114.104466        1.940624      -0.873413       0.094671   \n",
       "\n",
       "        dt          dlat          dlon          dalt      dnor          deas  \\\n",
       "0      NaN           NaN           NaN           NaN       NaN           NaN   \n",
       "1  20000.0  5.000000e-11 -5.000000e-11 -9.420000e-08  0.000002 -8.992000e-07   \n",
       "2  20000.0  0.000000e+00  0.000000e+00 -9.540000e-08  0.000002 -9.049000e-07   \n",
       "3  20000.0  0.000000e+00  0.000000e+00 -9.550000e-08  0.000002 -9.108500e-07   \n",
       "4  20001.0  4.999750e-11  0.000000e+00 -9.554522e-08  0.000002 -9.163042e-07   \n",
       "\n",
       "           ddow         dvelN         dvelE         dvelD  \n",
       "0           NaN           NaN           NaN           NaN  \n",
       "1  9.420000e-08  7.079000e-07 -2.504000e-07  1.322500e-07  \n",
       "2  9.540000e-08  6.441500e-07 -2.802000e-07  9.200000e-09  \n",
       "3  9.550000e-08  6.922000e-07 -2.671000e-07  2.310000e-08  \n",
       "4  9.554522e-08  6.665667e-07 -2.649868e-07 -6.319684e-08  "
      ]
     },
     "execution_count": 7,
     "metadata": {},
     "output_type": "execute_result"
    }
   ],
   "source": [
    "df.head()"
   ]
  },
  {
   "cell_type": "code",
   "execution_count": 8,
   "metadata": {},
   "outputs": [
    {
     "name": "stdout",
     "output_type": "stream",
     "text": [
      "Number of rows before removing extremes 42581\n"
     ]
    }
   ],
   "source": [
    "def get_extremes(df):\n",
    "    ilist=[11,12,13,14,16,17,18,19]\n",
    "    for i in ilist:\n",
    "        col=df.iloc[:,i]\n",
    "        mu=col.mean()\n",
    "        s=col.std()\n",
    "        max_v=(mu+s*2.0)\n",
    "        min_v=(mu-s*2.0)\n",
    "        df.iloc[:,i] = df.iloc[:,i].apply(lambda x: x if (x is not None) and (x <max_v) else None)\n",
    "        df.iloc[:,i] = df.iloc[:,i].apply(lambda x: x if (x is not None) and (x >min_v) else None)\n",
    "    return df\n",
    "print (\"Number of rows before removing extremes\", df.shape[0])\n",
    "df=get_extremes(df)\n",
    "df.dropna(inplace=True)"
   ]
  },
  {
   "cell_type": "code",
   "execution_count": 9,
   "metadata": {},
   "outputs": [
    {
     "name": "stdout",
     "output_type": "stream",
     "text": [
      "Number of final rows: 42406\n"
     ]
    }
   ],
   "source": [
    "print (\"Number of final rows:\",df.shape[0])\n"
   ]
  },
  {
   "cell_type": "code",
   "execution_count": 10,
   "metadata": {},
   "outputs": [
    {
     "name": "stdout",
     "output_type": "stream",
     "text": [
      "Number of rows removed: 103728\n"
     ]
    }
   ],
   "source": [
    "print (\"Number of rows removed:\",nrows-df.shape[0])"
   ]
  },
  {
   "cell_type": "markdown",
   "metadata": {},
   "source": [
    "Most of the rows that were removed were because of the coordinates did not fall in the physical range that the vehicle was in\n",
    "The derivative algorithm picked up more subtle points where the GPS made mistakes. "
   ]
  },
  {
   "cell_type": "code",
   "execution_count": null,
   "metadata": {},
   "outputs": [],
   "source": []
  },
  {
   "cell_type": "code",
   "execution_count": null,
   "metadata": {},
   "outputs": [],
   "source": []
  },
  {
   "cell_type": "code",
   "execution_count": null,
   "metadata": {},
   "outputs": [],
   "source": []
  },
  {
   "cell_type": "code",
   "execution_count": null,
   "metadata": {},
   "outputs": [],
   "source": []
  },
  {
   "cell_type": "code",
   "execution_count": null,
   "metadata": {},
   "outputs": [],
   "source": []
  }
 ],
 "metadata": {
  "kernelspec": {
   "display_name": "Python [conda env:insight]",
   "language": "python",
   "name": "conda-env-insight-py"
  },
  "language_info": {
   "codemirror_mode": {
    "name": "ipython",
    "version": 3
   },
   "file_extension": ".py",
   "mimetype": "text/x-python",
   "name": "python",
   "nbconvert_exporter": "python",
   "pygments_lexer": "ipython3",
   "version": "3.7.2"
  }
 },
 "nbformat": 4,
 "nbformat_minor": 2
}
